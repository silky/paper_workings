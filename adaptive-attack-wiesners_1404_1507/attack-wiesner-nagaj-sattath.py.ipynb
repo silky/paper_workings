{
 "metadata": {
  "name": "",
  "signature": "sha256:81e83e6a034449f020555248c6e6a10a4522c54ad68a265bdd936e49fa91c595"
 },
 "nbformat": 3,
 "nbformat_minor": 0,
 "worksheets": [
  {
   "cells": [
    {
     "cell_type": "code",
     "collapsed": false,
     "input": [
      "from play import *"
     ],
     "language": "python",
     "metadata": {},
     "outputs": [],
     "prompt_number": 1
    },
    {
     "cell_type": "code",
     "collapsed": false,
     "input": [
      "n = 4\n",
      "# (s, key) = generateEntangledMoney(1000, n)\n",
      "(s, key) = generateRegularMoney(1000, n)\n",
      "\n",
      "print(\"Planning on counterfeiting key: |{0}>, #{1}.\".format(\"\".join(key), s))"
     ],
     "language": "python",
     "metadata": {},
     "outputs": [
      {
       "output_type": "stream",
       "stream": "stdout",
       "text": [
        "Planning on counterfeiting key: |1--1>, #0.\n"
       ]
      }
     ],
     "prompt_number": 2
    },
    {
     "cell_type": "markdown",
     "metadata": {},
     "source": [
      "Let's now forge using the scheme of Nagaj and Sattath."
     ]
    },
    {
     "cell_type": "code",
     "collapsed": false,
     "input": [
      "(forged, original) = nsCounterfeit( (s, listToState(key)) )\n",
      "\n",
      "(sf, _) = validate(forged)\n",
      "(so, _) = validate(original)\n",
      "\n",
      "if so and sf:\n",
      "    print(\"Success! We forged a {0:d}-qubit key!\".format(n))\n",
      "else:\n",
      "    print(\"We died.\")"
     ],
     "language": "python",
     "metadata": {},
     "outputs": [
      {
       "output_type": "stream",
       "stream": "stdout",
       "text": [
        "Success! We forged a 4-qubit key!\n"
       ]
      }
     ],
     "prompt_number": 3
    },
    {
     "cell_type": "markdown",
     "metadata": {},
     "source": [
      "Let's forge naively, by measuring each qubit and hoping for the best."
     ]
    },
    {
     "cell_type": "code",
     "collapsed": false,
     "input": [
      "(forged, original) = naivelyCounterfeit( (s, listToState(key)) )\n",
      "\n",
      "(sf, state) = validate(forged)\n",
      "(so, state) = validate(original)\n",
      "\n",
      "if sf and so:\n",
      "    print(\"We were able to naively forge the key!\")\n",
      "else:\n",
      "    print(\"We died.\")"
     ],
     "language": "python",
     "metadata": {},
     "outputs": [
      {
       "output_type": "stream",
       "stream": "stdout",
       "text": [
        "We died.\n"
       ]
      }
     ],
     "prompt_number": 4
    },
    {
     "cell_type": "code",
     "collapsed": false,
     "input": [],
     "language": "python",
     "metadata": {},
     "outputs": []
    }
   ],
   "metadata": {}
  }
 ]
}